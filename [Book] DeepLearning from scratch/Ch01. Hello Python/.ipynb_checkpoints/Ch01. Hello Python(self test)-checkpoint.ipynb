{
 "cells": [
  {
   "cell_type": "markdown",
   "id": "intermediate-replacement",
   "metadata": {},
   "source": [
    "# 01. Sin, Cos 0에서 10까지 그리기, 레전드 및 각 라벨을 그리고 타이틀을 설정하기 cos는 점선으로 표현하기"
   ]
  },
  {
   "cell_type": "code",
   "execution_count": null,
   "id": "elect-cinema",
   "metadata": {},
   "outputs": [],
   "source": [
    "\n",
    "\n",
    "\n",
    "\n",
    "\n",
    "\n",
    "\n",
    "\n",
    "\n",
    "\n",
    "\n",
    "\n",
    "\n",
    "\n",
    "\n",
    "\n",
    "\n",
    "\n",
    "\n",
    "\n",
    "\n",
    "\n",
    "\n",
    "\n",
    "\n",
    "\n",
    "\n",
    "\n",
    "\n",
    "\n",
    "\n",
    "\n",
    "\n",
    "\n",
    "\n",
    "\n",
    "\n",
    "\n"
   ]
  },
  {
   "cell_type": "code",
   "execution_count": 2,
   "id": "peripheral-remainder",
   "metadata": {},
   "outputs": [],
   "source": [
    "import numpy as np\n",
    "import matplotlib.pyplot as plt\n",
    "\n",
    "x = np.arange(0,60, 0.01)\n",
    "y1 = np.sin(x)\n",
    "y2 = np.cos(x)\n",
    "y3 = np.tan(x)\n",
    "\n",
    "plt.plot(x,y1, label =\"Sgin\")"
   ]
  },
  {
   "cell_type": "code",
   "execution_count": null,
   "id": "moved-stock",
   "metadata": {},
   "outputs": [],
   "source": []
  }
 ],
 "metadata": {
  "kernelspec": {
   "display_name": "Python 3",
   "language": "python",
   "name": "python3"
  },
  "language_info": {
   "codemirror_mode": {
    "name": "ipython",
    "version": 3
   },
   "file_extension": ".py",
   "mimetype": "text/x-python",
   "name": "python",
   "nbconvert_exporter": "python",
   "pygments_lexer": "ipython3",
   "version": "3.9.1"
  }
 },
 "nbformat": 4,
 "nbformat_minor": 5
}
