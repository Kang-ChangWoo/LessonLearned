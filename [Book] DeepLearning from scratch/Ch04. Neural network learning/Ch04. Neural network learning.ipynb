{
 "cells": [
  {
   "cell_type": "markdown",
   "id": "polyphonic-standing",
   "metadata": {},
   "source": [
    "## 4.1 Concept of One-hot encoding"
   ]
  },
  {
   "cell_type": "code",
   "execution_count": 1,
   "id": "touched-graduate",
   "metadata": {},
   "outputs": [],
   "source": [
    "y = [0.1, 0.05, 0.6, 0.0, 0.05, 0.1, 0.0, 0.1, 0.0, 0.0]\n",
    "t = [0, 0, 1, 0, 0, 0, 0, 0, 0, 0]"
   ]
  },
  {
   "cell_type": "code",
   "execution_count": 2,
   "id": "different-alarm",
   "metadata": {},
   "outputs": [
    {
     "data": {
      "text/plain": [
       "10"
      ]
     },
     "execution_count": 2,
     "metadata": {},
     "output_type": "execute_result"
    }
   ],
   "source": [
    "len(y)"
   ]
  },
  {
   "cell_type": "code",
   "execution_count": 3,
   "id": "incorporate-weapon",
   "metadata": {},
   "outputs": [
    {
     "data": {
      "text/plain": [
       "10"
      ]
     },
     "execution_count": 3,
     "metadata": {},
     "output_type": "execute_result"
    }
   ],
   "source": [
    "len(t)"
   ]
  },
  {
   "cell_type": "code",
   "execution_count": 4,
   "id": "junior-constant",
   "metadata": {},
   "outputs": [],
   "source": [
    "def mean_squared_error(y, t):\n",
    "    return 0.5 * np.sum((y-t)**2)"
   ]
  },
  {
   "cell_type": "code",
   "execution_count": 5,
   "id": "standard-terminology",
   "metadata": {},
   "outputs": [],
   "source": [
    "import numpy as np"
   ]
  },
  {
   "cell_type": "code",
   "execution_count": 6,
   "id": "moving-grill",
   "metadata": {},
   "outputs": [
    {
     "data": {
      "text/plain": [
       "0.09750000000000003"
      ]
     },
     "execution_count": 6,
     "metadata": {},
     "output_type": "execute_result"
    }
   ],
   "source": [
    "t = [0,0,1,0,0,0,0,0,0,0]\n",
    "\n",
    "y = [0.1, 0.05, 0.6, 0.0, 0.05, 0.1, 0.0, 0.1, 0.0, 0.0]\n",
    "mean_squared_error(np.array(y), np.array(t))"
   ]
  },
  {
   "cell_type": "code",
   "execution_count": 7,
   "id": "eleven-aaron",
   "metadata": {},
   "outputs": [
    {
     "data": {
      "text/plain": [
       "0.5975"
      ]
     },
     "execution_count": 7,
     "metadata": {},
     "output_type": "execute_result"
    }
   ],
   "source": [
    "y = [0.1, 0.05, 0.1, 0.0, 0.05, 0.1, 0.0, 0.6, 0.0, 0.0]\n",
    "mean_squared_error(np.array(y), np.array(t))"
   ]
  },
  {
   "cell_type": "code",
   "execution_count": 8,
   "id": "equipped-society",
   "metadata": {},
   "outputs": [
    {
     "data": {
      "text/plain": [
       "10"
      ]
     },
     "execution_count": 8,
     "metadata": {},
     "output_type": "execute_result"
    }
   ],
   "source": [
    "len(t)"
   ]
  },
  {
   "cell_type": "code",
   "execution_count": 9,
   "id": "quality-subcommittee",
   "metadata": {},
   "outputs": [],
   "source": [
    "def cross_entropy_error(y, t):\n",
    "    delta = 1e-7\n",
    "    return -np.sum(t * np.log(y + delta))"
   ]
  },
  {
   "cell_type": "code",
   "execution_count": 10,
   "id": "going-mexican",
   "metadata": {},
   "outputs": [
    {
     "data": {
      "text/plain": [
       "0.510825457099338"
      ]
     },
     "execution_count": 10,
     "metadata": {},
     "output_type": "execute_result"
    }
   ],
   "source": [
    "t = [0,0,1,0,0,0,0,0,0,0]\n",
    "\n",
    "y = [0.1, 0.05, 0.6, 0.0, 0.05, 0.1, 0.0, 0.1, 0.0, 0.0]\n",
    "cross_entropy_error(np.array(y), np.array(t))"
   ]
  },
  {
   "cell_type": "code",
   "execution_count": 11,
   "id": "sharp-making",
   "metadata": {},
   "outputs": [
    {
     "data": {
      "text/plain": [
       "2.302584092994546"
      ]
     },
     "execution_count": 11,
     "metadata": {},
     "output_type": "execute_result"
    }
   ],
   "source": [
    "y = [0.1, 0.05, 0.1, 0.0, 0.05, 0.1, 0.0, 0.6, 0.0, 0.0]\n",
    "cross_entropy_error(np.array(y), np.array(t))"
   ]
  },
  {
   "cell_type": "markdown",
   "id": "incident-special",
   "metadata": {},
   "source": [
    "## 4.2 Minibatch method"
   ]
  },
  {
   "cell_type": "code",
   "execution_count": 12,
   "id": "international-surrey",
   "metadata": {},
   "outputs": [],
   "source": [
    "import pickle\n",
    "\n",
    "def get_data(normalize=True, one_hot_label=True, flatten=True):\n",
    "    with open(\"../resource/dataset/mnist.pkl\", 'rb') as f:\n",
    "        dataset = pickle.load(f)\n",
    "\n",
    "    if normalize:\n",
    "        for key in ('train_img', 'test_img'):\n",
    "            dataset[key] = dataset[key].astype(np.float32)\n",
    "            dataset[key] /= 255.0\n",
    "\n",
    "    if one_hot_label:\n",
    "        dataset['train_label'] = _change_one_hot_label(dataset['train_label'])\n",
    "        dataset['test_label'] = _change_one_hot_label(dataset['test_label'])\n",
    "\n",
    "    if not flatten:\n",
    "         for key in ('train_img', 'test_img'):\n",
    "            dataset[key] = dataset[key].reshape(-1, 1, 28, 28)\n",
    "    (x_train, t_train), (x_test, t_test)  = (dataset['train_img'], dataset['train_label']), (dataset['test_img'], dataset['test_label'])\n",
    "    return (x_train, t_train), (x_test, t_test)\n",
    "\n",
    "def _change_one_hot_label(X):\n",
    "    T = np.zeros((X.size, 10))\n",
    "    for idx, row in enumerate(T):\n",
    "        row[X[idx]] = 1\n",
    "\n",
    "    return T"
   ]
  },
  {
   "cell_type": "code",
   "execution_count": 13,
   "id": "talented-insulin",
   "metadata": {},
   "outputs": [],
   "source": [
    "(x_train, t_train), (x_test, t_test) = get_data()"
   ]
  },
  {
   "cell_type": "code",
   "execution_count": 14,
   "id": "designed-glasgow",
   "metadata": {},
   "outputs": [
    {
     "data": {
      "text/plain": [
       "60000"
      ]
     },
     "execution_count": 14,
     "metadata": {},
     "output_type": "execute_result"
    }
   ],
   "source": [
    "train_size = x_train.shape[0]\n",
    "train_size"
   ]
  },
  {
   "cell_type": "code",
   "execution_count": 15,
   "id": "appreciated-correlation",
   "metadata": {},
   "outputs": [],
   "source": [
    "batch_size = 10\n",
    "batch_mask = np.random.choice(train_size, batch_size)\n",
    "x_batch = x_train[batch_mask]\n",
    "t_batch = t_train[batch_mask]"
   ]
  },
  {
   "cell_type": "code",
   "execution_count": 16,
   "id": "assured-farming",
   "metadata": {},
   "outputs": [
    {
     "data": {
      "text/plain": [
       "array([24055, 52527, 55631, 57794, 29915, 36088, 14204, 31421, 59902,\n",
       "        3865])"
      ]
     },
     "execution_count": 16,
     "metadata": {},
     "output_type": "execute_result"
    }
   ],
   "source": [
    "np.random.choice(60000, 10)"
   ]
  },
  {
   "cell_type": "code",
   "execution_count": 17,
   "id": "animal-desert",
   "metadata": {},
   "outputs": [],
   "source": [
    "def cross_entropy_error(y, t):\n",
    "    if y.ndim == 1:\n",
    "        t = t.reshape(1, t.size)\n",
    "        y = y.reshape(1, y.size)\n",
    "        \n",
    "    batch_size = y.shape[0]\n",
    "    return -np.sum(t * np.log(y + 1e-7)) / batch_size"
   ]
  },
  {
   "cell_type": "markdown",
   "id": "taken-therapy",
   "metadata": {},
   "source": [
    "## 4.3 Differential"
   ]
  },
  {
   "cell_type": "code",
   "execution_count": 18,
   "id": "intensive-james",
   "metadata": {},
   "outputs": [],
   "source": [
    "# 나쁜 구현\n",
    "\n",
    "def numerical_diff(f, x):\n",
    "    h = 10e-50 #한 없이 작은 수\n",
    "    return (f(x + h) - f(x)) / h"
   ]
  },
  {
   "cell_type": "code",
   "execution_count": 19,
   "id": "latin-indie",
   "metadata": {},
   "outputs": [],
   "source": [
    "def numerical_diff(f, x):\n",
    "    h = 10e-4 #한 없이 작은 수\n",
    "    return (f(x + h) - f(x - h)) / 2*h"
   ]
  },
  {
   "cell_type": "code",
   "execution_count": 20,
   "id": "challenging-professional",
   "metadata": {},
   "outputs": [],
   "source": [
    "def function_1(x):\n",
    "    return 0.01*x**2 + 0.1*x"
   ]
  },
  {
   "cell_type": "code",
   "execution_count": 21,
   "id": "personalized-creation",
   "metadata": {},
   "outputs": [
    {
     "data": {
      "image/png": "[encoded data removed]",
      "text/plain": [
       "<Figure size 432x288 with 1 Axes>"
      ]
     },
     "metadata": {
      "needs_background": "light"
     },
     "output_type": "display_data"
    }
   ],
   "source": [
    "import numpy as np\n",
    "import matplotlib.pylab as plt\n",
    "\n",
    "x = np.arange(-40.0, 40.0, 0.1) #0에서 20까지 0.1 간격으로 배열 x를 만든다.\n",
    "y = function_1(x)\n",
    "plt.xlabel(\"x\")\n",
    "plt.ylabel(\"f(x)\")\n",
    "plt.plot(x, y)\n",
    "plt.show()"
   ]
  },
  {
   "cell_type": "code",
   "execution_count": 22,
   "id": "tight-legislature",
   "metadata": {},
   "outputs": [
    {
     "data": {
      "text/plain": [
       "1.1999999999999512e-07"
      ]
     },
     "execution_count": 22,
     "metadata": {},
     "output_type": "execute_result"
    }
   ],
   "source": [
    "numerical_diff(function_1, 1)"
   ]
  },
  {
   "cell_type": "code",
   "execution_count": 23,
   "id": "neutral-alfred",
   "metadata": {},
   "outputs": [
    {
     "data": {
      "text/plain": [
       "2.00000000000089e-07"
      ]
     },
     "execution_count": 23,
     "metadata": {},
     "output_type": "execute_result"
    }
   ],
   "source": [
    "numerical_diff(function_1, 5)"
   ]
  },
  {
   "cell_type": "code",
   "execution_count": 24,
   "id": "exciting-recorder",
   "metadata": {},
   "outputs": [
    {
     "data": {
      "text/plain": [
       "2.9999999999996695e-07"
      ]
     },
     "execution_count": 24,
     "metadata": {},
     "output_type": "execute_result"
    }
   ],
   "source": [
    "numerical_diff(function_1, 10)"
   ]
  },
  {
   "cell_type": "markdown",
   "id": "improving-march",
   "metadata": {},
   "source": [
    "## 4.4 Partial derivative"
   ]
  },
  {
   "cell_type": "code",
   "execution_count": 25,
   "id": "alternate-agenda",
   "metadata": {},
   "outputs": [],
   "source": [
    "def function_2(x):\n",
    "    return x[0] ** 2 + x[1]**2\n",
    "    # 또는 return np.sum(x**2)"
   ]
  },
  {
   "cell_type": "code",
   "execution_count": 26,
   "id": "dutch-adjustment",
   "metadata": {},
   "outputs": [],
   "source": [
    "def function_tmp1(x0):\n",
    "    return x0*x0 + 4.0**2.0"
   ]
  },
  {
   "cell_type": "code",
   "execution_count": 27,
   "id": "breathing-postcard",
   "metadata": {},
   "outputs": [
    {
     "data": {
      "text/plain": [
       "5.999999999998451e-06"
      ]
     },
     "execution_count": 27,
     "metadata": {},
     "output_type": "execute_result"
    }
   ],
   "source": [
    "numerical_diff(function_tmp1, 3.0)"
   ]
  },
  {
   "cell_type": "code",
   "execution_count": 28,
   "id": "incoming-conditions",
   "metadata": {},
   "outputs": [],
   "source": [
    "def function_tmp2(x1):\n",
    "    return 3.0**2.0 + x1*x1"
   ]
  },
  {
   "cell_type": "code",
   "execution_count": 29,
   "id": "individual-collect",
   "metadata": {},
   "outputs": [
    {
     "data": {
      "text/plain": [
       "8.000000000000896e-06"
      ]
     },
     "execution_count": 29,
     "metadata": {},
     "output_type": "execute_result"
    }
   ],
   "source": [
    "numerical_diff(function_tmp2, 4.0)"
   ]
  },
  {
   "cell_type": "markdown",
   "id": "conditional-maryland",
   "metadata": {},
   "source": [
    "## 4.5 Gradient"
   ]
  },
  {
   "cell_type": "code",
   "execution_count": 30,
   "id": "coral-preparation",
   "metadata": {},
   "outputs": [],
   "source": [
    "def numerical_gradient(f, x):\n",
    "    h = 1e-4 # 0.0001\n",
    "    grad = np.zeros_like(x) # x와 형상이 같은 배열을 생성\n",
    "    \n",
    "    for idx in range(x.size):\n",
    "        tmp_val = x[idx]\n",
    "        \n",
    "        # f(x+h) 계산\n",
    "        x[idx] = tmp_val + h\n",
    "        fxh1 = f(x)\n",
    "        \n",
    "        # f(x-h) 계산\n",
    "        x[idx] = tmp_val - h\n",
    "        fxh2 = f(x)\n",
    "        \n",
    "        grad[idx] = (fxh1 - fxh2) / (2*h)\n",
    "        x[idx] = tmp_val # 값 복원\n",
    "\n",
    "    return grad"
   ]
  },
  {
   "cell_type": "code",
   "execution_count": 31,
   "id": "residential-pathology",
   "metadata": {},
   "outputs": [
    {
     "data": {
      "text/plain": [
       "array([6., 8.])"
      ]
     },
     "execution_count": 31,
     "metadata": {},
     "output_type": "execute_result"
    }
   ],
   "source": [
    "numerical_gradient(function_2, np.array([3.0, 4.0]))"
   ]
  },
  {
   "cell_type": "code",
   "execution_count": 32,
   "id": "abandoned-stylus",
   "metadata": {},
   "outputs": [
    {
     "data": {
      "text/plain": [
       "array([0., 4.])"
      ]
     },
     "execution_count": 32,
     "metadata": {},
     "output_type": "execute_result"
    }
   ],
   "source": [
    "numerical_gradient(function_2, np.array([0.0, 2.0]))"
   ]
  },
  {
   "cell_type": "code",
   "execution_count": 33,
   "id": "transparent-shirt",
   "metadata": {},
   "outputs": [
    {
     "data": {
      "text/plain": [
       "array([6., 0.])"
      ]
     },
     "execution_count": 33,
     "metadata": {},
     "output_type": "execute_result"
    }
   ],
   "source": [
    "numerical_gradient(function_2, np.array([3.0, 0.0]))"
   ]
  },
  {
   "cell_type": "markdown",
   "id": "exceptional-security",
   "metadata": {},
   "source": [
    "## 4.6 Gradient descent"
   ]
  },
  {
   "cell_type": "code",
   "execution_count": 34,
   "id": "cellular-orchestra",
   "metadata": {},
   "outputs": [],
   "source": [
    "def gradient_descent(f, init_x, lr=0.01, step_num=100):\n",
    "    x = init_x\n",
    "    \n",
    "    for i in range(step_num):\n",
    "        grad = numerical_gradient(f, x)\n",
    "        x -= lr * grad\n",
    "        \n",
    "    return x"
   ]
  },
  {
   "cell_type": "code",
   "execution_count": 35,
   "id": "romantic-minnesota",
   "metadata": {},
   "outputs": [],
   "source": [
    "def function_2(x):\n",
    "    return x[0] **2 + x[1]**2"
   ]
  },
  {
   "cell_type": "code",
   "execution_count": 36,
   "id": "protecting-darwin",
   "metadata": {},
   "outputs": [
    {
     "data": {
      "text/plain": [
       "array([-6.11110793e-10,  8.14814391e-10])"
      ]
     },
     "execution_count": 36,
     "metadata": {},
     "output_type": "execute_result"
    }
   ],
   "source": [
    "init_x = np.array([-3.0, 4.0])\n",
    "gradient_descent(function_2, init_x = init_x, lr = 0.1, step_num = 100)"
   ]
  },
  {
   "cell_type": "code",
   "execution_count": 37,
   "id": "touched-poker",
   "metadata": {},
   "outputs": [
    {
     "data": {
      "text/plain": [
       "array([-2.58983747e+13, -1.29524862e+12])"
      ]
     },
     "execution_count": 37,
     "metadata": {},
     "output_type": "execute_result"
    }
   ],
   "source": [
    "init_x = np.array([-3.0, 4.0])\n",
    "gradient_descent(function_2, init_x = init_x, lr = 10.0, step_num = 100)"
   ]
  },
  {
   "cell_type": "code",
   "execution_count": 38,
   "id": "graduate-hepatitis",
   "metadata": {},
   "outputs": [
    {
     "data": {
      "text/plain": [
       "array([-2.9999994,  3.9999992])"
      ]
     },
     "execution_count": 38,
     "metadata": {},
     "output_type": "execute_result"
    }
   ],
   "source": [
    "init_x = np.array([-3.0, 4.0])\n",
    "gradient_descent(function_2, init_x = init_x, lr = 10e-10, step_num = 100)"
   ]
  },
  {
   "cell_type": "markdown",
   "id": "impaired-approval",
   "metadata": {},
   "source": [
    "## 4.7 Gradient in Neural network"
   ]
  },
  {
   "cell_type": "code",
   "execution_count": 41,
   "id": "finite-literacy",
   "metadata": {},
   "outputs": [],
   "source": [
    "def softmax(a):\n",
    "    c = np.max(a)\n",
    "    exp_a = np.exp(a - c)\n",
    "    sum_exp_a = np.sum(exp_a)\n",
    "    y = exp_a / sum_exp_a\n",
    "    \n",
    "    return y"
   ]
  },
  {
   "cell_type": "code",
   "execution_count": 42,
   "id": "bibliographic-winning",
   "metadata": {},
   "outputs": [],
   "source": [
    "import sys, os\n",
    "import numpy as np\n",
    "\n",
    "class simpleNet:\n",
    "    def __init__(self):\n",
    "        self.W = np.random.randn(2,3) #정규 분포로 초기화\n",
    "    \n",
    "    def predict(self, x):\n",
    "        return np.dot(x, self.W)\n",
    "    \n",
    "    def loss(self, x, t):\n",
    "        z = self.predict(x)\n",
    "        y = softmax(z)\n",
    "        loss = cross_entropy_error(y, t)\n",
    "        \n",
    "        return loss"
   ]
  },
  {
   "cell_type": "code",
   "execution_count": 49,
   "id": "stone-blind",
   "metadata": {},
   "outputs": [
    {
     "name": "stdout",
     "output_type": "stream",
     "text": [
      "[[ 2.03975694 -0.16776505  1.49373063]\n",
      " [-1.03426552 -0.64060642 -1.80211489]]\n"
     ]
    }
   ],
   "source": [
    "net = simpleNet()\n",
    "print(net.W)"
   ]
  },
  {
   "cell_type": "code",
   "execution_count": 52,
   "id": "understood-cleaners",
   "metadata": {},
   "outputs": [
    {
     "data": {
      "text/plain": [
       "array([ 0.29301519, -0.67720481, -0.72566502])"
      ]
     },
     "execution_count": 52,
     "metadata": {},
     "output_type": "execute_result"
    }
   ],
   "source": [
    "x = np.array([0.6, 0.9])\n",
    "p = net.predict(x)\n",
    "\n",
    "p"
   ]
  },
  {
   "cell_type": "code",
   "execution_count": 54,
   "id": "thick-context",
   "metadata": {},
   "outputs": [
    {
     "data": {
      "text/plain": [
       "0"
      ]
     },
     "execution_count": 54,
     "metadata": {},
     "output_type": "execute_result"
    }
   ],
   "source": [
    "np.argmax(p)"
   ]
  },
  {
   "cell_type": "code",
   "execution_count": 55,
   "id": "fixed-surveillance",
   "metadata": {},
   "outputs": [
    {
     "data": {
      "text/plain": [
       "1.5726055423744845"
      ]
     },
     "execution_count": 55,
     "metadata": {},
     "output_type": "execute_result"
    }
   ],
   "source": [
    "t = np.array([0, 0, 1])\n",
    "net.loss(x, t)"
   ]
  },
  {
   "cell_type": "code",
   "execution_count": 58,
   "id": "following-possession",
   "metadata": {},
   "outputs": [
    {
     "ename": "IndexError",
     "evalue": "index 2 is out of bounds for axis 0 with size 2",
     "output_type": "error",
     "traceback": [
      "\u001b[1;31m---------------------------------------------------------------------------\u001b[0m",
      "\u001b[1;31mIndexError\u001b[0m                                Traceback (most recent call last)",
      "\u001b[1;32m<ipython-input-58-69f42c604601>\u001b[0m in \u001b[0;36m<module>\u001b[1;34m\u001b[0m\n\u001b[0;32m      2\u001b[0m     \u001b[1;32mreturn\u001b[0m \u001b[0mnet\u001b[0m\u001b[1;33m.\u001b[0m\u001b[0mloss\u001b[0m\u001b[1;33m(\u001b[0m\u001b[0mx\u001b[0m\u001b[1;33m,\u001b[0m \u001b[0mt\u001b[0m\u001b[1;33m)\u001b[0m\u001b[1;33m\u001b[0m\u001b[1;33m\u001b[0m\u001b[0m\n\u001b[0;32m      3\u001b[0m \u001b[1;33m\u001b[0m\u001b[0m\n\u001b[1;32m----> 4\u001b[1;33m \u001b[0mdw\u001b[0m \u001b[1;33m=\u001b[0m \u001b[0mnumerical_gradient\u001b[0m\u001b[1;33m(\u001b[0m\u001b[0mf\u001b[0m\u001b[1;33m,\u001b[0m \u001b[0mnet\u001b[0m\u001b[1;33m.\u001b[0m\u001b[0mW\u001b[0m\u001b[1;33m)\u001b[0m\u001b[1;33m\u001b[0m\u001b[1;33m\u001b[0m\u001b[0m\n\u001b[0m\u001b[0;32m      5\u001b[0m \u001b[0mprint\u001b[0m\u001b[1;33m(\u001b[0m\u001b[0mdw\u001b[0m\u001b[1;33m)\u001b[0m\u001b[1;33m\u001b[0m\u001b[1;33m\u001b[0m\u001b[0m\n",
      "\u001b[1;32m<ipython-input-30-05ba5654ca98>\u001b[0m in \u001b[0;36mnumerical_gradient\u001b[1;34m(f, x)\u001b[0m\n\u001b[0;32m      4\u001b[0m \u001b[1;33m\u001b[0m\u001b[0m\n\u001b[0;32m      5\u001b[0m     \u001b[1;32mfor\u001b[0m \u001b[0midx\u001b[0m \u001b[1;32min\u001b[0m \u001b[0mrange\u001b[0m\u001b[1;33m(\u001b[0m\u001b[0mx\u001b[0m\u001b[1;33m.\u001b[0m\u001b[0msize\u001b[0m\u001b[1;33m)\u001b[0m\u001b[1;33m:\u001b[0m\u001b[1;33m\u001b[0m\u001b[1;33m\u001b[0m\u001b[0m\n\u001b[1;32m----> 6\u001b[1;33m         \u001b[0mtmp_val\u001b[0m \u001b[1;33m=\u001b[0m \u001b[0mx\u001b[0m\u001b[1;33m[\u001b[0m\u001b[0midx\u001b[0m\u001b[1;33m]\u001b[0m\u001b[1;33m\u001b[0m\u001b[1;33m\u001b[0m\u001b[0m\n\u001b[0m\u001b[0;32m      7\u001b[0m \u001b[1;33m\u001b[0m\u001b[0m\n\u001b[0;32m      8\u001b[0m         \u001b[1;31m# f(x+h) 계산\u001b[0m\u001b[1;33m\u001b[0m\u001b[1;33m\u001b[0m\u001b[1;33m\u001b[0m\u001b[0m\n",
      "\u001b[1;31mIndexError\u001b[0m: index 2 is out of bounds for axis 0 with size 2"
     ]
    }
   ],
   "source": [
    "def f(W):\n",
    "    return net.loss(x, t)\n",
    "    \n",
    "dw = numerical_gradient(f, net.W)\n",
    "print(dw)"
   ]
  },
  {
   "cell_type": "code",
   "execution_count": 60,
   "id": "tracked-example",
   "metadata": {},
   "outputs": [
    {
     "ename": "IndexError",
     "evalue": "index 2 is out of bounds for axis 0 with size 2",
     "output_type": "error",
     "traceback": [
      "\u001b[1;31m---------------------------------------------------------------------------\u001b[0m",
      "\u001b[1;31mIndexError\u001b[0m                                Traceback (most recent call last)",
      "\u001b[1;32m<ipython-input-60-1796e0665597>\u001b[0m in \u001b[0;36m<module>\u001b[1;34m\u001b[0m\n\u001b[0;32m      1\u001b[0m \u001b[0mf\u001b[0m \u001b[1;33m=\u001b[0m \u001b[1;32mlambda\u001b[0m \u001b[0mw\u001b[0m\u001b[1;33m:\u001b[0m \u001b[0mnet\u001b[0m\u001b[1;33m.\u001b[0m\u001b[0mloss\u001b[0m\u001b[1;33m(\u001b[0m\u001b[0mx\u001b[0m\u001b[1;33m,\u001b[0m \u001b[0mt\u001b[0m\u001b[1;33m)\u001b[0m\u001b[1;33m\u001b[0m\u001b[1;33m\u001b[0m\u001b[0m\n\u001b[1;32m----> 2\u001b[1;33m \u001b[0mdW\u001b[0m \u001b[1;33m=\u001b[0m \u001b[0mnumerical_gradient\u001b[0m\u001b[1;33m(\u001b[0m\u001b[0mf\u001b[0m\u001b[1;33m,\u001b[0m \u001b[0mnet\u001b[0m\u001b[1;33m.\u001b[0m\u001b[0mW\u001b[0m\u001b[1;33m)\u001b[0m\u001b[1;33m\u001b[0m\u001b[1;33m\u001b[0m\u001b[0m\n\u001b[0m",
      "\u001b[1;32m<ipython-input-30-05ba5654ca98>\u001b[0m in \u001b[0;36mnumerical_gradient\u001b[1;34m(f, x)\u001b[0m\n\u001b[0;32m      4\u001b[0m \u001b[1;33m\u001b[0m\u001b[0m\n\u001b[0;32m      5\u001b[0m     \u001b[1;32mfor\u001b[0m \u001b[0midx\u001b[0m \u001b[1;32min\u001b[0m \u001b[0mrange\u001b[0m\u001b[1;33m(\u001b[0m\u001b[0mx\u001b[0m\u001b[1;33m.\u001b[0m\u001b[0msize\u001b[0m\u001b[1;33m)\u001b[0m\u001b[1;33m:\u001b[0m\u001b[1;33m\u001b[0m\u001b[1;33m\u001b[0m\u001b[0m\n\u001b[1;32m----> 6\u001b[1;33m         \u001b[0mtmp_val\u001b[0m \u001b[1;33m=\u001b[0m \u001b[0mx\u001b[0m\u001b[1;33m[\u001b[0m\u001b[0midx\u001b[0m\u001b[1;33m]\u001b[0m\u001b[1;33m\u001b[0m\u001b[1;33m\u001b[0m\u001b[0m\n\u001b[0m\u001b[0;32m      7\u001b[0m \u001b[1;33m\u001b[0m\u001b[0m\n\u001b[0;32m      8\u001b[0m         \u001b[1;31m# f(x+h) 계산\u001b[0m\u001b[1;33m\u001b[0m\u001b[1;33m\u001b[0m\u001b[1;33m\u001b[0m\u001b[0m\n",
      "\u001b[1;31mIndexError\u001b[0m: index 2 is out of bounds for axis 0 with size 2"
     ]
    }
   ],
   "source": [
    "f = lambda w: net.loss(x, t)\n",
    "dW = numerical_gradient(f, net.W)"
   ]
  },
  {
   "cell_type": "code",
   "execution_count": 61,
   "id": "cognitive-coupon",
   "metadata": {},
   "outputs": [
    {
     "data": {
      "text/plain": [
       "array([0.6, 0.9])"
      ]
     },
     "execution_count": 61,
     "metadata": {},
     "output_type": "execute_result"
    }
   ],
   "source": [
    "x"
   ]
  },
  {
   "cell_type": "code",
   "execution_count": 62,
   "id": "appointed-prophet",
   "metadata": {},
   "outputs": [
    {
     "data": {
      "text/plain": [
       "array([0, 0, 1])"
      ]
     },
     "execution_count": 62,
     "metadata": {},
     "output_type": "execute_result"
    }
   ],
   "source": [
    "t"
   ]
  },
  {
   "cell_type": "markdown",
   "id": "faced-google",
   "metadata": {},
   "source": [
    "## 4.8 SGD( Stochastic, gradient descent, 확률적 경사 하강법)"
   ]
  },
  {
   "cell_type": "code",
   "execution_count": 63,
   "id": "collected-honduras",
   "metadata": {},
   "outputs": [],
   "source": [
    "import sys, os"
   ]
  },
  {
   "cell_type": "code",
   "execution_count": 75,
   "id": "floating-albert",
   "metadata": {},
   "outputs": [],
   "source": [
    "def sigmoid(x):\n",
    "    return 1 / (1 + np.exp(-x))"
   ]
  },
  {
   "cell_type": "code",
   "execution_count": 76,
   "id": "binding-belly",
   "metadata": {},
   "outputs": [],
   "source": [
    "class TwoLayerNet:\n",
    "    def __init__(self, input_size, hidden_size, output_size, weight_init_std=0.01):\n",
    "    \n",
    "        # 가중치 초기화\n",
    "        self.params = {}\n",
    "        self.params['W1'] = weight_init_std * \\\n",
    "                            np.random.randn(input_size, hidden_size)\n",
    "        \n",
    "        self.params['b1'] = np.zeros(hidden_size)\n",
    "        self.params['W2'] = weight_init_std * \\\n",
    "                            np.random.randn(hidden_size, output_size)\n",
    "        self.params['b2'] = np.zeros(output_size)\n",
    "        \n",
    "    def predict(self, x):\n",
    "        W1, W2 = self.params[\"W1\"], self.params['W2']\n",
    "        \n",
    "        b1, b2 = self.params['b1'], self.params['b2']\n",
    "        \n",
    "        a1 = np.dot(x, W1) + b1\n",
    "        z1 = sigmoid(a1)\n",
    "        a2 = np.dot(z1, W2) + b2\n",
    "        y = softmax(a2)\n",
    "        \n",
    "        return y\n",
    "    \n",
    "    # x: 입력 데이터, t: 정답 레이블\n",
    "    def loss(self, x, t):\n",
    "        y = self.predict(x)\n",
    "        \n",
    "        return cross_entropy_error(y, t)\n",
    "    \n",
    "    def accuracy(self, x, t):\n",
    "        y = self.predict(x)\n",
    "        y = np.argmax(y, axis= 1)\n",
    "        t = np.argmax(t, axis= 1)\n",
    "        \n",
    "        accuracy = np.sum(y == t) / float(x.shape[0])\n",
    "        return accuracy\n",
    "    \n",
    "    # x: 입력 데이터, t: 정답 레이블\n",
    "    def numerical_gradient(self, x, t):\n",
    "        loss_W = lambda W: self.loss(x, t)\n",
    "        \n",
    "        grads = {}\n",
    "        grads['W1'] = numerical_gradient(loss_W), self.params['W1']\n",
    "        grads['b1'] = numerical_gradient(loss_W), self.params['b1']\n",
    "        grads['W2'] = numerical_gradient(loss_W), self.params['W2']\n",
    "        grads['b2'] = numerical_gradient(loss_W), self.params['b2']\n",
    "        \n",
    "        return grads\n",
    "        \n",
    "        \n",
    "        "
   ]
  },
  {
   "cell_type": "code",
   "execution_count": 77,
   "id": "fifty-oakland",
   "metadata": {},
   "outputs": [],
   "source": [
    "net = TwoLayerNet(input_size = 784, hidden_size = 100, output_size = 10)"
   ]
  },
  {
   "cell_type": "code",
   "execution_count": 78,
   "id": "exclusive-eligibility",
   "metadata": {},
   "outputs": [
    {
     "data": {
      "text/plain": [
       "(784, 100)"
      ]
     },
     "execution_count": 78,
     "metadata": {},
     "output_type": "execute_result"
    }
   ],
   "source": [
    "net.params['W1'].shape"
   ]
  },
  {
   "cell_type": "code",
   "execution_count": 79,
   "id": "broken-thesaurus",
   "metadata": {},
   "outputs": [
    {
     "data": {
      "text/plain": [
       "(100,)"
      ]
     },
     "execution_count": 79,
     "metadata": {},
     "output_type": "execute_result"
    }
   ],
   "source": [
    "net.params['b1'].shape"
   ]
  },
  {
   "cell_type": "code",
   "execution_count": 80,
   "id": "wicked-austria",
   "metadata": {},
   "outputs": [
    {
     "data": {
      "text/plain": [
       "(100, 10)"
      ]
     },
     "execution_count": 80,
     "metadata": {},
     "output_type": "execute_result"
    }
   ],
   "source": [
    "net.params['W2'].shape"
   ]
  },
  {
   "cell_type": "code",
   "execution_count": 81,
   "id": "unlikely-dealing",
   "metadata": {},
   "outputs": [
    {
     "data": {
      "text/plain": [
       "(10,)"
      ]
     },
     "execution_count": 81,
     "metadata": {},
     "output_type": "execute_result"
    }
   ],
   "source": [
    "net.params['b2'].shape"
   ]
  },
  {
   "cell_type": "code",
   "execution_count": 82,
   "id": "biblical-employee",
   "metadata": {},
   "outputs": [],
   "source": [
    "x = np.random.rand(100, 784) # 더미 입력 데이터 ( 100장 분량)\n",
    "y = net.predict(x)"
   ]
  },
  {
   "cell_type": "code",
   "execution_count": 83,
   "id": "american-administrator",
   "metadata": {},
   "outputs": [
    {
     "data": {
      "text/plain": [
       "array([[0.00107699, 0.00096519, 0.0010275 , 0.00094457, 0.00100702,\n",
       "        0.00098281, 0.00093207, 0.00103576, 0.00101479, 0.00101033],\n",
       "       [0.00108129, 0.00096479, 0.00102909, 0.00094346, 0.00100964,\n",
       "        0.00098551, 0.000927  , 0.00104155, 0.00101689, 0.00100588],\n",
       "       [0.00107744, 0.00096356, 0.00102793, 0.00094749, 0.00100677,\n",
       "        0.00098166, 0.00093045, 0.00103799, 0.00101876, 0.00100952],\n",
       "       [0.00107437, 0.00096398, 0.00103099, 0.00094034, 0.00100557,\n",
       "        0.00097843, 0.00092917, 0.00104223, 0.0010128 , 0.00100766],\n",
       "       [0.0010802 , 0.00096325, 0.00102732, 0.00094547, 0.00101103,\n",
       "        0.0009859 , 0.00093174, 0.00103724, 0.00101316, 0.00100821],\n",
       "       [0.00107727, 0.00096493, 0.00103001, 0.00094165, 0.00100748,\n",
       "        0.00098706, 0.00093129, 0.00104082, 0.00101356, 0.00100527],\n",
       "       [0.00107808, 0.00096494, 0.00103037, 0.00094053, 0.00100778,\n",
       "        0.00098038, 0.00092873, 0.0010372 , 0.00101423, 0.0010083 ],\n",
       "       [0.00107738, 0.00096387, 0.00102672, 0.0009456 , 0.00101177,\n",
       "        0.00098254, 0.0009292 , 0.00104084, 0.00101747, 0.00100128],\n",
       "       [0.00107594, 0.00096338, 0.00103203, 0.00094467, 0.00100799,\n",
       "        0.00098318, 0.00093257, 0.00104165, 0.00101721, 0.00101079],\n",
       "       [0.00107794, 0.0009648 , 0.00103155, 0.00094256, 0.00100595,\n",
       "        0.00098322, 0.00092972, 0.00104093, 0.00101505, 0.00100761],\n",
       "       [0.00107695, 0.00096304, 0.00103047, 0.0009452 , 0.00100738,\n",
       "        0.00098038, 0.00093198, 0.0010375 , 0.00101504, 0.00101074],\n",
       "       [0.00107688, 0.0009675 , 0.00102947, 0.00094235, 0.00100943,\n",
       "        0.00098536, 0.00093027, 0.00103876, 0.00101574, 0.00101001],\n",
       "       [0.00107919, 0.00096462, 0.00103044, 0.00094336, 0.00100519,\n",
       "        0.00098392, 0.00092765, 0.00103884, 0.00101651, 0.00101054],\n",
       "       [0.00107894, 0.00096343, 0.0010299 , 0.00094371, 0.00100921,\n",
       "        0.00098214, 0.00093075, 0.00103967, 0.00101525, 0.00100884],\n",
       "       [0.00107736, 0.00096429, 0.00102813, 0.00094539, 0.00100684,\n",
       "        0.00098213, 0.0009284 , 0.00103807, 0.0010184 , 0.00100772],\n",
       "       [0.00108054, 0.00096707, 0.00103217, 0.00094093, 0.00100576,\n",
       "        0.00098148, 0.00092685, 0.00103934, 0.0010175 , 0.00100509],\n",
       "       [0.00107854, 0.00096111, 0.00102739, 0.00094717, 0.00101241,\n",
       "        0.000981  , 0.00093019, 0.00103797, 0.00101263, 0.0010087 ],\n",
       "       [0.00108121, 0.00096142, 0.00102974, 0.0009441 , 0.00101089,\n",
       "        0.00098337, 0.00093134, 0.00104009, 0.00101716, 0.00100657],\n",
       "       [0.00107903, 0.00096356, 0.00103094, 0.00094498, 0.00100928,\n",
       "        0.00098245, 0.00093185, 0.00103663, 0.00101422, 0.00100871],\n",
       "       [0.00107775, 0.00096065, 0.00102668, 0.00094404, 0.00101014,\n",
       "        0.00098477, 0.00093042, 0.00104055, 0.00101931, 0.00100639],\n",
       "       [0.00107423, 0.00096415, 0.00102693, 0.00094436, 0.00100936,\n",
       "        0.00098242, 0.00092625, 0.00103753, 0.00101806, 0.00101117],\n",
       "       [0.00107732, 0.00096355, 0.0010334 , 0.0009464 , 0.00101034,\n",
       "        0.00098194, 0.00092939, 0.00103818, 0.0010153 , 0.00100814],\n",
       "       [0.00107729, 0.00096602, 0.00103165, 0.00094513, 0.00101035,\n",
       "        0.00098271, 0.00092764, 0.0010396 , 0.00101452, 0.00100845],\n",
       "       [0.00108255, 0.00096452, 0.00102747, 0.00094323, 0.00100719,\n",
       "        0.00098701, 0.00093153, 0.00103819, 0.00101534, 0.00100793],\n",
       "       [0.00108084, 0.0009624 , 0.00103184, 0.00094179, 0.00100653,\n",
       "        0.00098242, 0.00092983, 0.00104022, 0.00101574, 0.00100632],\n",
       "       [0.00107837, 0.00096431, 0.00103085, 0.00094516, 0.00101151,\n",
       "        0.00098536, 0.00093347, 0.00103806, 0.00101702, 0.00101082],\n",
       "       [0.00107974, 0.00096041, 0.00102585, 0.00094421, 0.00100815,\n",
       "        0.00098505, 0.00093033, 0.00103846, 0.00101684, 0.00100661],\n",
       "       [0.00108056, 0.00096404, 0.00102966, 0.00094746, 0.00100958,\n",
       "        0.00098432, 0.00092659, 0.00104517, 0.0010156 , 0.00100985],\n",
       "       [0.0010753 , 0.00096074, 0.00102491, 0.0009442 , 0.00100862,\n",
       "        0.00097851, 0.00092717, 0.00103707, 0.00101375, 0.00100846],\n",
       "       [0.00107429, 0.00096118, 0.00102786, 0.00094598, 0.00100852,\n",
       "        0.00098146, 0.00093137, 0.00104066, 0.00101611, 0.0010073 ],\n",
       "       [0.00108011, 0.00096559, 0.00102814, 0.00094509, 0.00100572,\n",
       "        0.00098254, 0.00092687, 0.00104133, 0.00101381, 0.00100385],\n",
       "       [0.00108125, 0.00096509, 0.00102906, 0.00094238, 0.00100797,\n",
       "        0.00098704, 0.00093134, 0.00103639, 0.00101801, 0.00100745],\n",
       "       [0.0010806 , 0.00096278, 0.00103056, 0.00094796, 0.00100754,\n",
       "        0.00098085, 0.0009282 , 0.00104334, 0.00101658, 0.00100809],\n",
       "       [0.00107876, 0.00096496, 0.00103311, 0.000944  , 0.00101011,\n",
       "        0.00098453, 0.00093044, 0.00103814, 0.00101555, 0.00100704],\n",
       "       [0.00107972, 0.0009655 , 0.00103102, 0.00094237, 0.00100493,\n",
       "        0.0009852 , 0.00093106, 0.00103597, 0.00101727, 0.00100856],\n",
       "       [0.0010774 , 0.00096755, 0.00102966, 0.00094904, 0.00100916,\n",
       "        0.00098383, 0.00093009, 0.00103808, 0.00101529, 0.00100646],\n",
       "       [0.00107887, 0.00096362, 0.00102934, 0.00094761, 0.00101068,\n",
       "        0.00098473, 0.00092957, 0.00103678, 0.00101522, 0.00100527],\n",
       "       [0.0010765 , 0.00096552, 0.00103478, 0.00094614, 0.00100664,\n",
       "        0.00098241, 0.00093182, 0.00103784, 0.00101207, 0.00101149],\n",
       "       [0.00108102, 0.00096199, 0.00102976, 0.00094635, 0.00100805,\n",
       "        0.00098318, 0.00093088, 0.0010353 , 0.00101721, 0.00100937],\n",
       "       [0.00107618, 0.00096143, 0.00102836, 0.00094659, 0.00100873,\n",
       "        0.00098033, 0.00092654, 0.00104136, 0.00101584, 0.00100368],\n",
       "       [0.00107854, 0.00096233, 0.00103006, 0.00094538, 0.00100824,\n",
       "        0.00098431, 0.00093054, 0.00103714, 0.00101563, 0.00101067],\n",
       "       [0.0010785 , 0.00096617, 0.00103054, 0.00094429, 0.00100786,\n",
       "        0.0009811 , 0.00092693, 0.00104311, 0.0010152 , 0.00100751],\n",
       "       [0.00108285, 0.00096325, 0.00103013, 0.00094723, 0.0010089 ,\n",
       "        0.00098395, 0.00092954, 0.00103953, 0.00101567, 0.00100766],\n",
       "       [0.00107596, 0.00096322, 0.00103192, 0.00094452, 0.00100787,\n",
       "        0.00098349, 0.00093098, 0.00104003, 0.00101541, 0.00100467],\n",
       "       [0.00107873, 0.00096386, 0.00102953, 0.00094579, 0.00100797,\n",
       "        0.00098936, 0.00093217, 0.00103827, 0.00101796, 0.00100419],\n",
       "       [0.00107964, 0.00096392, 0.00103084, 0.0009436 , 0.00100697,\n",
       "        0.00098599, 0.00093154, 0.0010364 , 0.00101718, 0.00100627],\n",
       "       [0.001077  , 0.00096219, 0.0010268 , 0.00094524, 0.00100899,\n",
       "        0.00098096, 0.00092641, 0.00103826, 0.00101554, 0.00100802],\n",
       "       [0.00107713, 0.00096168, 0.00102687, 0.0009487 , 0.00100817,\n",
       "        0.0009814 , 0.00093038, 0.00103696, 0.0010169 , 0.00100798],\n",
       "       [0.00107571, 0.0009664 , 0.00103411, 0.00094755, 0.00100775,\n",
       "        0.00098331, 0.0009286 , 0.00104203, 0.00101724, 0.00100414],\n",
       "       [0.00107602, 0.00096155, 0.00102978, 0.00094531, 0.00100558,\n",
       "        0.00097923, 0.00092839, 0.00104364, 0.00101756, 0.00100789],\n",
       "       [0.00107887, 0.00096351, 0.00102741, 0.00094256, 0.00101144,\n",
       "        0.00098063, 0.00093146, 0.00103937, 0.00101249, 0.00100836],\n",
       "       [0.00108061, 0.00096525, 0.00102751, 0.00094769, 0.00100905,\n",
       "        0.00098289, 0.00093   , 0.00103847, 0.00101677, 0.00100707],\n",
       "       [0.00107759, 0.00096053, 0.00102898, 0.00094823, 0.00101241,\n",
       "        0.00098476, 0.00092997, 0.0010388 , 0.00101649, 0.00100656],\n",
       "       [0.00107528, 0.00096652, 0.00102994, 0.00094829, 0.00101117,\n",
       "        0.00098683, 0.00093266, 0.00103796, 0.00101483, 0.00100656],\n",
       "       [0.00107773, 0.00096567, 0.00102576, 0.00094746, 0.00101134,\n",
       "        0.00098149, 0.00093009, 0.00103869, 0.00101352, 0.00100772],\n",
       "       [0.00107833, 0.00096543, 0.00102956, 0.00094412, 0.00100911,\n",
       "        0.00098311, 0.00093122, 0.00104041, 0.00101572, 0.00100781],\n",
       "       [0.00107904, 0.00096436, 0.00102974, 0.00094735, 0.00100702,\n",
       "        0.00098421, 0.00092672, 0.00104301, 0.00101441, 0.00100769],\n",
       "       [0.00108025, 0.00096421, 0.00102802, 0.00094468, 0.00101047,\n",
       "        0.00098558, 0.00092685, 0.00104034, 0.00101805, 0.00100686],\n",
       "       [0.001078  , 0.00096276, 0.00102789, 0.0009453 , 0.00100936,\n",
       "        0.00098403, 0.00092947, 0.00104059, 0.00101602, 0.00100723],\n",
       "       [0.00107899, 0.00096159, 0.00102866, 0.00094513, 0.00101013,\n",
       "        0.00097941, 0.00092878, 0.00104034, 0.00101481, 0.00100675],\n",
       "       [0.00107781, 0.00096769, 0.0010301 , 0.00094353, 0.00100905,\n",
       "        0.00098461, 0.00093317, 0.00103767, 0.00101456, 0.00101292],\n",
       "       [0.00107918, 0.00096314, 0.00102893, 0.00094275, 0.00100949,\n",
       "        0.00098014, 0.00092799, 0.00104138, 0.00101248, 0.00100873],\n",
       "       [0.00108021, 0.0009628 , 0.00102976, 0.00094248, 0.00100522,\n",
       "        0.00098038, 0.00092969, 0.00104156, 0.00101663, 0.00100824],\n",
       "       [0.00108042, 0.00096385, 0.00103026, 0.00094484, 0.00100509,\n",
       "        0.0009853 , 0.00092828, 0.0010384 , 0.00101773, 0.00100441],\n",
       "       [0.0010779 , 0.00096364, 0.00103024, 0.00094707, 0.0010119 ,\n",
       "        0.00098446, 0.00092977, 0.00103846, 0.00101673, 0.00100577],\n",
       "       [0.00107986, 0.00096092, 0.00103125, 0.00094662, 0.00100497,\n",
       "        0.00098524, 0.00092668, 0.00103999, 0.00101418, 0.00100513],\n",
       "       [0.00108295, 0.00096415, 0.00103007, 0.00094377, 0.00100721,\n",
       "        0.0009822 , 0.00092847, 0.0010368 , 0.00101944, 0.00100787],\n",
       "       [0.00107358, 0.00096667, 0.00103002, 0.00094564, 0.00100666,\n",
       "        0.00098351, 0.00092923, 0.00104206, 0.00101491, 0.00100689],\n",
       "       [0.00107671, 0.00096137, 0.00102701, 0.00095044, 0.0010096 ,\n",
       "        0.00098287, 0.00092909, 0.00103696, 0.00101707, 0.00100138],\n",
       "       [0.00107956, 0.00096398, 0.00102843, 0.00094208, 0.00100584,\n",
       "        0.00098199, 0.00092818, 0.00103847, 0.00101624, 0.00100938],\n",
       "       [0.0010746 , 0.00096393, 0.0010311 , 0.00094441, 0.0010119 ,\n",
       "        0.00098369, 0.00092802, 0.00103821, 0.00101311, 0.00100519],\n",
       "       [0.00107453, 0.00096632, 0.00103125, 0.00094086, 0.00100772,\n",
       "        0.00098028, 0.00093049, 0.00103953, 0.00101216, 0.0010111 ],\n",
       "       [0.00107746, 0.00096517, 0.00102594, 0.00094859, 0.00100199,\n",
       "        0.00098207, 0.00092735, 0.00103976, 0.00101905, 0.00100816],\n",
       "       [0.001077  , 0.00096314, 0.00102871, 0.00094331, 0.00101001,\n",
       "        0.00098416, 0.00093252, 0.00103935, 0.0010146 , 0.0010043 ],\n",
       "       [0.00107836, 0.0009644 , 0.00102662, 0.00094469, 0.00101019,\n",
       "        0.00098453, 0.00093069, 0.00103586, 0.00101758, 0.00100777],\n",
       "       [0.00107515, 0.00096242, 0.00103051, 0.00094679, 0.00101063,\n",
       "        0.00098376, 0.00092788, 0.00104193, 0.00101737, 0.00100688],\n",
       "       [0.00107704, 0.00096175, 0.00102836, 0.0009479 , 0.00100963,\n",
       "        0.00098253, 0.00092995, 0.00103784, 0.00101722, 0.00100782],\n",
       "       [0.00107695, 0.00096699, 0.00102772, 0.0009456 , 0.00100794,\n",
       "        0.00098641, 0.00093073, 0.00103904, 0.00101905, 0.00100581],\n",
       "       [0.00107816, 0.00096241, 0.00102973, 0.0009464 , 0.00100766,\n",
       "        0.00098489, 0.00093014, 0.00103678, 0.00101581, 0.00100959],\n",
       "       [0.00107593, 0.0009619 , 0.00102871, 0.00094352, 0.00100695,\n",
       "        0.00098405, 0.000929  , 0.0010389 , 0.00101474, 0.00100766],\n",
       "       [0.00107739, 0.00096363, 0.00102973, 0.00094518, 0.00100914,\n",
       "        0.00098035, 0.00092943, 0.0010402 , 0.00101362, 0.00100585],\n",
       "       [0.00107816, 0.0009661 , 0.00102846, 0.00094706, 0.0010058 ,\n",
       "        0.00098306, 0.00093184, 0.00103671, 0.00101648, 0.00100642],\n",
       "       [0.00107951, 0.00096293, 0.00102822, 0.00094439, 0.00100587,\n",
       "        0.00098183, 0.00092841, 0.00104134, 0.00101405, 0.0010057 ],\n",
       "       [0.00107335, 0.00096608, 0.00103009, 0.00094707, 0.00101029,\n",
       "        0.00098027, 0.00092895, 0.00104086, 0.00101385, 0.00100683],\n",
       "       [0.0010767 , 0.00096248, 0.00102763, 0.00094582, 0.001008  ,\n",
       "        0.0009845 , 0.0009307 , 0.00104182, 0.00101719, 0.00100579],\n",
       "       [0.00107868, 0.00096284, 0.00102762, 0.00094438, 0.00101172,\n",
       "        0.00098546, 0.00093195, 0.00103786, 0.00101592, 0.00100758],\n",
       "       [0.00107695, 0.00096514, 0.00103035, 0.00094166, 0.00100766,\n",
       "        0.00098105, 0.00092813, 0.00104099, 0.00101394, 0.00100534],\n",
       "       [0.00107749, 0.00096404, 0.00103198, 0.00094229, 0.0010049 ,\n",
       "        0.00098002, 0.00092975, 0.00103984, 0.00101683, 0.00100848],\n",
       "       [0.00107816, 0.00096356, 0.00102824, 0.00094298, 0.00101059,\n",
       "        0.00098328, 0.00092993, 0.00104122, 0.00101715, 0.00100517],\n",
       "       [0.00107958, 0.00096595, 0.00102856, 0.00094808, 0.00100724,\n",
       "        0.00098163, 0.00092742, 0.00104185, 0.00101557, 0.0010084 ],\n",
       "       [0.00107906, 0.0009641 , 0.00103302, 0.00094368, 0.00100456,\n",
       "        0.00098481, 0.00093205, 0.00104364, 0.00101347, 0.00100712],\n",
       "       [0.00107625, 0.00096418, 0.00102927, 0.0009473 , 0.00100854,\n",
       "        0.00098197, 0.00093233, 0.00103985, 0.00101416, 0.00100757],\n",
       "       [0.00107546, 0.00096332, 0.00102941, 0.00094407, 0.00100802,\n",
       "        0.00098573, 0.00093271, 0.00104022, 0.0010182 , 0.00100824],\n",
       "       [0.00108205, 0.00096094, 0.00103156, 0.00094404, 0.00100713,\n",
       "        0.00098285, 0.00093048, 0.00103885, 0.00101451, 0.0010101 ],\n",
       "       [0.0010782 , 0.00095895, 0.00102782, 0.00094172, 0.00101057,\n",
       "        0.000983  , 0.00092938, 0.00103936, 0.0010183 , 0.001007  ],\n",
       "       [0.00108035, 0.00096163, 0.00103037, 0.00094281, 0.00100435,\n",
       "        0.00098575, 0.00092797, 0.00104204, 0.00101511, 0.00100707],\n",
       "       [0.00108206, 0.00096182, 0.00102616, 0.0009438 , 0.001008  ,\n",
       "        0.00098429, 0.00092797, 0.00104017, 0.00101702, 0.00100279],\n",
       "       [0.0010793 , 0.00096096, 0.00102982, 0.00094126, 0.00100644,\n",
       "        0.00098239, 0.00092609, 0.00104246, 0.00101603, 0.00100086],\n",
       "       [0.00107858, 0.00096477, 0.00103475, 0.00094283, 0.00100669,\n",
       "        0.00098741, 0.00093202, 0.00103686, 0.00101561, 0.00100675],\n",
       "       [0.00108271, 0.00096549, 0.00103046, 0.00094405, 0.00100665,\n",
       "        0.0009838 , 0.0009287 , 0.00103797, 0.00101967, 0.00100578]])"
      ]
     },
     "execution_count": 83,
     "metadata": {},
     "output_type": "execute_result"
    }
   ],
   "source": [
    "y"
   ]
  },
  {
   "cell_type": "markdown",
   "id": "critical-wrong",
   "metadata": {},
   "source": [
    "## 4.9 Minibatch"
   ]
  },
  {
   "cell_type": "code",
   "execution_count": null,
   "id": "colonial-plastic",
   "metadata": {},
   "outputs": [],
   "source": [
    "import numpy as np\n",
    "from dataset."
   ]
  }
 ],
 "metadata": {
  "kernelspec": {
   "display_name": "Python 3",
   "language": "python",
   "name": "python3"
  },
  "language_info": {
   "codemirror_mode": {
    "name": "ipython",
    "version": 3
   },
   "file_extension": ".py",
   "mimetype": "text/x-python",
   "name": "python",
   "nbconvert_exporter": "python",
   "pygments_lexer": "ipython3",
   "version": "3.9.1"
  }
 },
 "nbformat": 4,
 "nbformat_minor": 5
}
